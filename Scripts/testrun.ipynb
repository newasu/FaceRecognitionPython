{
 "nbformat": 4,
 "nbformat_minor": 2,
 "metadata": {
  "language_info": {
   "name": "python",
   "codemirror_mode": {
    "name": "ipython",
    "version": 3
   },
   "version": "3.7.7-final"
  },
  "orig_nbformat": 2,
  "file_extension": ".py",
  "mimetype": "text/x-python",
  "name": "python",
  "npconvert_exporter": "python",
  "pygments_lexer": "ipython3",
  "version": 3,
  "kernelspec": {
   "name": "Python 3.7.7 64-bit ('base': conda)",
   "display_name": "Python 3.7.7 64-bit ('base': conda)",
   "metadata": {
    "interpreter": {
     "hash": "35407bfd9e2badf4ebc8777ae813041dc466ee80a13e12ff8e5f1da09255d380"
    }
   }
  }
 },
 "cells": [
  {
   "cell_type": "code",
   "execution_count": null,
   "metadata": {},
   "outputs": [],
   "source": [
    "import numpy as np\n",
    "import pandas as pd\n",
    "from WELM.welm import welm\n",
    "\n",
    "randomseed = 25\n",
    "hiddenNodePerc = 100\n",
    "regC = 1\n",
    "distanceFunc = 'euclidean'\n",
    "\n",
    "v1 = np.array([1, 1, 1, 1, 1])\n",
    "v2 = np.array([2, 2, 2, 2, 2])\n",
    "v3 = np.array([3, 3, 3, 3, 3])\n",
    "v4 = np.array([4, 4, 4, 4, 4])\n"
   ]
  },
  {
   "cell_type": "code",
   "execution_count": null,
   "metadata": {},
   "outputs": [],
   "source": [
    "v1"
   ]
  },
  {
   "cell_type": "code",
   "execution_count": 27,
   "metadata": {},
   "outputs": [],
   "source": [
    "%reset"
   ]
  },
  {
   "cell_type": "code",
   "execution_count": 16,
   "metadata": {
    "tags": []
   },
   "outputs": [
    {
     "output_type": "stream",
     "name": "stdout",
     "text": "precision: [0.  0.1]\nrecall: [0. 1.]\nf1: [0.         0.18181818]\n"
    }
   ],
   "source": [
    "from sklearn.metrics import precision_recall_fscore_support\n",
    "\n",
    "true_y = ['POS', 'NEG', 'NEG', 'NEG', 'NEG', 'NEG', 'NEG', 'NEG', 'NEG', 'NEG']\n",
    "# predict_y = ['NEG', 'NEG', 'NEG', 'NEG', 'NEG', 'NEG', 'NEG', 'NEG', 'NEG', 'NEG']\n",
    "predict_y = ['POS', 'POS', 'POS', 'POS', 'POS', 'POS', 'POS', 'POS', 'POS', 'POS']\n",
    "\n",
    "p,r,f,s = precision_recall_fscore_support(true_y, predict_y)\n",
    "\n",
    "print('precision: ' + str(p))\n",
    "print('recall: ' + str(r))\n",
    "print('f1: ' + str(f))"
   ]
  },
  {
   "cell_type": "code",
   "execution_count": null,
   "metadata": {},
   "outputs": [],
   "source": []
  }
 ]
}