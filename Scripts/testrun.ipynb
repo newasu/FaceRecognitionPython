{
 "nbformat": 4,
 "nbformat_minor": 2,
 "metadata": {
  "language_info": {
   "name": "python",
   "codemirror_mode": {
    "name": "ipython",
    "version": 3
   },
   "version": "3.8.1-final"
  },
  "orig_nbformat": 2,
  "file_extension": ".py",
  "mimetype": "text/x-python",
  "name": "python",
  "npconvert_exporter": "python",
  "pygments_lexer": "ipython3",
  "version": 3,
  "kernelspec": {
   "name": "python38164bitresearchconda27e60fc424be49028fcf6bc78f50446b",
   "display_name": "Python 3.8.1 64-bit ('research': conda)"
  }
 },
 "cells": [
  {
   "cell_type": "code",
   "execution_count": null,
   "metadata": {},
   "outputs": [],
   "source": [
    "import numpy as np\n",
    "import pandas as pd\n",
    "from WELM.welm import welm\n",
    "\n",
    "randomseed = 25\n",
    "hiddenNodePerc = 100\n",
    "regC = 1\n",
    "distanceFunc = 'euclidean'\n",
    "\n",
    "v1 = np.array([1, 1, 1, 1, 1])\n",
    "v2 = np.array([2, 2, 2, 2, 2])\n",
    "v3 = np.array([3, 3, 3, 3, 3])\n",
    "v4 = np.array([4, 4, 4, 4, 4])\n"
   ]
  },
  {
   "cell_type": "code",
   "execution_count": null,
   "metadata": {},
   "outputs": [],
   "source": [
    "v1"
   ]
  },
  {
   "cell_type": "code",
   "execution_count": 27,
   "metadata": {},
   "outputs": [],
   "source": [
    "%reset"
   ]
  },
  {
   "cell_type": "code",
   "execution_count": null,
   "metadata": {},
   "outputs": [],
   "source": []
  }
 ]
}